{
 "cells": [
  {
   "cell_type": "code",
   "execution_count": 1,
   "id": "6dc62bda-f4e8-45ba-90ed-3d35e222ce23",
   "metadata": {},
   "outputs": [],
   "source": [
    "import pandas\n",
    "import pandahouse as ph\n",
    "import seaborn as sns\n",
    "import matplotlib.pyplot as plt\n",
    "import scipy.stats as stats\n",
    "import numpy as np"
   ]
  },
  {
   "cell_type": "markdown",
   "id": "c717f6d9-f74b-452c-b60b-ef2ad2ce6f53",
   "metadata": {},
   "source": [
    "## Получаем данные по 2 и 3-й группе"
   ]
  },
  {
   "cell_type": "code",
   "execution_count": 2,
   "id": "5d048749-cca9-488f-8deb-c6bc24e9a6d4",
   "metadata": {},
   "outputs": [],
   "source": [
    "connection = {'host': 'https://clickhouse.lab.karpov.courses',\n",
    "                      'database':'simulator_20230120',\n",
    "                      'user':'student', \n",
    "                      'password':'dpo_python_2020'\n",
    "                     }"
   ]
  },
  {
   "cell_type": "code",
   "execution_count": 3,
   "id": "2e62d4a4-8ac8-4300-84ac-eb4e2d197ac3",
   "metadata": {},
   "outputs": [],
   "source": [
    "# данные АА-теста с '2022-12-25' по '2022-12-31'\n",
    "query = '''\n",
    "SELECT exp_group, user_id,\n",
    "    sum(action = 'like') as likes, \n",
    "    sum(action = 'view') as views,\n",
    "    likes/views as ctr\n",
    "FROM {db}.feed_actions\n",
    "WHERE toDate(time) >= '2022-12-25' \n",
    "    AND toDate(time) <= '2022-12-31'\n",
    "    AND exp_group in (2,3)\n",
    "GROUP BY exp_group, user_id\n",
    "'''\n",
    "\n",
    "df = ph.read_clickhouse(query, connection=connection)"
   ]
  },
  {
   "cell_type": "code",
   "execution_count": 4,
   "id": "e7ceba4b-f409-43f4-8823-ebafbfb0f459",
   "metadata": {},
   "outputs": [
    {
     "data": {
      "text/html": [
       "<div>\n",
       "<style scoped>\n",
       "    .dataframe tbody tr th:only-of-type {\n",
       "        vertical-align: middle;\n",
       "    }\n",
       "\n",
       "    .dataframe tbody tr th {\n",
       "        vertical-align: top;\n",
       "    }\n",
       "\n",
       "    .dataframe thead th {\n",
       "        text-align: right;\n",
       "    }\n",
       "</style>\n",
       "<table border=\"1\" class=\"dataframe\">\n",
       "  <thead>\n",
       "    <tr style=\"text-align: right;\">\n",
       "      <th></th>\n",
       "      <th>exp_group</th>\n",
       "      <th>user_id</th>\n",
       "      <th>likes</th>\n",
       "      <th>views</th>\n",
       "      <th>ctr</th>\n",
       "    </tr>\n",
       "  </thead>\n",
       "  <tbody>\n",
       "    <tr>\n",
       "      <th>0</th>\n",
       "      <td>3</td>\n",
       "      <td>115383</td>\n",
       "      <td>11</td>\n",
       "      <td>36</td>\n",
       "      <td>0.305556</td>\n",
       "    </tr>\n",
       "    <tr>\n",
       "      <th>1</th>\n",
       "      <td>3</td>\n",
       "      <td>123580</td>\n",
       "      <td>15</td>\n",
       "      <td>92</td>\n",
       "      <td>0.163043</td>\n",
       "    </tr>\n",
       "    <tr>\n",
       "      <th>2</th>\n",
       "      <td>2</td>\n",
       "      <td>131473</td>\n",
       "      <td>26</td>\n",
       "      <td>148</td>\n",
       "      <td>0.175676</td>\n",
       "    </tr>\n",
       "    <tr>\n",
       "      <th>3</th>\n",
       "      <td>2</td>\n",
       "      <td>23985</td>\n",
       "      <td>12</td>\n",
       "      <td>66</td>\n",
       "      <td>0.181818</td>\n",
       "    </tr>\n",
       "    <tr>\n",
       "      <th>4</th>\n",
       "      <td>2</td>\n",
       "      <td>24523</td>\n",
       "      <td>17</td>\n",
       "      <td>120</td>\n",
       "      <td>0.141667</td>\n",
       "    </tr>\n",
       "  </tbody>\n",
       "</table>\n",
       "</div>"
      ],
      "text/plain": [
       "   exp_group  user_id  likes  views       ctr\n",
       "0          3   115383     11     36  0.305556\n",
       "1          3   123580     15     92  0.163043\n",
       "2          2   131473     26    148  0.175676\n",
       "3          2    23985     12     66  0.181818\n",
       "4          2    24523     17    120  0.141667"
      ]
     },
     "execution_count": 4,
     "metadata": {},
     "output_type": "execute_result"
    }
   ],
   "source": [
    "df.head()"
   ]
  },
  {
   "cell_type": "code",
   "execution_count": 5,
   "id": "3f6b5a91-c710-4656-8e4c-a72aafe652e3",
   "metadata": {},
   "outputs": [
    {
     "data": {
      "text/plain": [
       "(17049, 5)"
      ]
     },
     "execution_count": 5,
     "metadata": {},
     "output_type": "execute_result"
    }
   ],
   "source": [
    "df.shape"
   ]
  },
  {
   "cell_type": "code",
   "execution_count": 6,
   "id": "afd29084-0eb0-43b6-be56-36e84193ee4b",
   "metadata": {},
   "outputs": [
    {
     "data": {
      "text/plain": [
       "exp_group\n",
       "2    8480\n",
       "3    8569\n",
       "Name: user_id, dtype: int64"
      ]
     },
     "execution_count": 6,
     "metadata": {},
     "output_type": "execute_result"
    }
   ],
   "source": [
    "# проверили разбиение\n",
    "df.groupby('exp_group').count().user_id"
   ]
  },
  {
   "cell_type": "code",
   "execution_count": 7,
   "id": "fd1301e8-83b2-4447-bc5f-03a6917dfd26",
   "metadata": {},
   "outputs": [],
   "source": [
    "# Сделаем графики в seaborn покрупнее\n",
    "sns.set(rc={'figure.figsize':(11.7,8.27)})"
   ]
  },
  {
   "cell_type": "code",
   "execution_count": 8,
   "id": "a5c4edd8-b2d5-4da8-9666-137e0eb1c532",
   "metadata": {},
   "outputs": [
    {
     "data": {
      "image/png": "[encoded data removed]",
      "text/plain": [
       "<Figure size 842.4x595.44 with 1 Axes>"
      ]
     },
     "metadata": {},
     "output_type": "display_data"
    }
   ],
   "source": [
    "# Посмотрим на распределение ctr в двух группах\n",
    "groups = sns.histplot(data = df, \n",
    "              x='ctr', \n",
    "              hue='exp_group', \n",
    "              palette = ['r', 'b'],\n",
    "              alpha=0.5,\n",
    "              kde=False)"
   ]
  },
  {
   "cell_type": "code",
   "execution_count": 9,
   "id": "1b354fc2-cecc-438e-866b-d8ec11707977",
   "metadata": {},
   "outputs": [],
   "source": [
    "import random\n",
    "\n",
    "\n",
    "def get_p_values(iterations, subsample_size, sample_1, sample_2):\n",
    "    p_values = np.empty(iterations)\n",
    "    for i in range(iterations):\n",
    "        sub_1 = np.random.choice(sample_1, subsample_size, replace=False)\n",
    "        sub_2 = np.random.choice(sample_2, subsample_size, replace=False)\n",
    "        \n",
    "        #сравниваем получившиеся подвыборки с помощью t-test\n",
    "        p_values[i] = stats.ttest_ind(sub_1, sub_2, equal_var=False)[1]\n",
    "    return p_values\n",
    "        \n",
    "        "
   ]
  },
  {
   "cell_type": "code",
   "execution_count": 10,
   "id": "990659bf-81d6-4830-82dc-0b3cd3c8af0e",
   "metadata": {},
   "outputs": [],
   "source": [
    "# сделаем симуляцию, как будто мы провели 10000 АА-тестов\n",
    "sample_1 = df[df.exp_group == 2].ctr.to_numpy()\n",
    "sample_2 = df[df.exp_group == 3].ctr.to_numpy()\n",
    "subsample_size = 500 \n",
    "iterations = 10000\n",
    "\n",
    "p_values = get_p_values(iterations,subsample_size,sample_1,sample_2)"
   ]
  },
  {
   "cell_type": "code",
   "execution_count": 11,
   "id": "214f6ebf-a6b7-49ac-ad4e-04045e4f9d28",
   "metadata": {},
   "outputs": [
    {
     "data": {
      "image/png": "[encoded data removed]",
      "text/plain": [
       "<Figure size 842.4x595.44 with 1 Axes>"
      ]
     },
     "metadata": {},
     "output_type": "display_data"
    }
   ],
   "source": [
    "#гистограмма распределения получившихся 10000 p-values\n",
    "sns.histplot(p_values)\n",
    "plt.show()"
   ]
  },
  {
   "cell_type": "code",
   "execution_count": 72,
   "id": "c46008e8-e969-4962-8da7-f13a6c50ca5a",
   "metadata": {},
   "outputs": [
    {
     "name": "stdout",
     "output_type": "stream",
     "text": [
      "Процент p_values, который меньше либо равен 0.05: 4.29%\n"
     ]
    }
   ],
   "source": [
    "print(f'Процент p_values, который меньше либо равен 0.05: {len(p_values[p_values <= 0.05]) / len(p_values) * 100}%')"
   ]
  },
  {
   "cell_type": "markdown",
   "id": "8754eecf-1f03-4e43-b2b9-373f60462eb7",
   "metadata": {},
   "source": [
    "Вывод: система сплитования работает корректно, потому что распределение p-value равномерно, значит можно сказать, что выборки не отличаются друг от друга"
   ]
  },
  {
   "cell_type": "code",
   "execution_count": null,
   "id": "a5884d93-1777-43af-879b-dfd47ae6d53d",
   "metadata": {},
   "outputs": [],
   "source": []
  }
 ],
 "metadata": {
  "kernelspec": {
   "display_name": "Python 3 (ipykernel)",
   "language": "python",
   "name": "python3"
  },
  "language_info": {
   "codemirror_mode": {
    "name": "ipython",
    "version": 3
   },
   "file_extension": ".py",
   "mimetype": "text/x-python",
   "name": "python",
   "nbconvert_exporter": "python",
   "pygments_lexer": "ipython3",
   "version": "3.8.10"
  }
 },
 "nbformat": 4,
 "nbformat_minor": 5
}
