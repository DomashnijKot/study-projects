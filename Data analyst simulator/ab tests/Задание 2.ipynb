{
 "cells": [
  {
   "cell_type": "code",
   "execution_count": 9,
   "id": "f4cc0090-253f-48dd-b3fb-ec8491bfb39a",
   "metadata": {},
   "outputs": [],
   "source": [
    "import pandas as pd\n",
    "import pandahouse as ph\n",
    "import seaborn as sns\n",
    "import matplotlib.pyplot as plt\n",
    "import scipy.stats as stats\n",
    "import numpy as np"
   ]
  },
  {
   "cell_type": "code",
   "execution_count": 2,
   "id": "f835bb25-6dad-44a4-a57f-1683a7eccce2",
   "metadata": {},
   "outputs": [],
   "source": [
    "# Сделаем графики в seaborn покрупнее\n",
    "sns.set(rc={'figure.figsize':(11.7,8.27)})"
   ]
  },
  {
   "cell_type": "code",
   "execution_count": 3,
   "id": "96be4577-3ad5-4dde-9b24-dd0426c2a246",
   "metadata": {},
   "outputs": [],
   "source": [
    "connection = {'host': 'https://clickhouse.lab.karpov.courses',\n",
    "                      'database':'simulator_20230120',\n",
    "                      'user':'student', \n",
    "                      'password':'dpo_python_2020'\n",
    "                     }"
   ]
  },
  {
   "cell_type": "markdown",
   "id": "22a384e6-8210-4c29-b803-eb81c06232ec",
   "metadata": {},
   "source": [
    "Общие сведения об эксперименте: \\\n",
    "1 - контрольная группа \\\n",
    "2 - тестовая группа \\\n",
    "Эксперимент проходил с 2023-01-01 по 2023-01-07 включительно \\\n",
    "Основная гипотеза заключается в том, что новый алгоритм во 2-й группе приведет к увеличению CTR. "
   ]
  },
  {
   "cell_type": "code",
   "execution_count": 4,
   "id": "151a2992-c149-4f5d-a32f-88cab9200f76",
   "metadata": {},
   "outputs": [
    {
     "data": {
      "text/html": [
       "<div>\n",
       "<style scoped>\n",
       "    .dataframe tbody tr th:only-of-type {\n",
       "        vertical-align: middle;\n",
       "    }\n",
       "\n",
       "    .dataframe tbody tr th {\n",
       "        vertical-align: top;\n",
       "    }\n",
       "\n",
       "    .dataframe thead th {\n",
       "        text-align: right;\n",
       "    }\n",
       "</style>\n",
       "<table border=\"1\" class=\"dataframe\">\n",
       "  <thead>\n",
       "    <tr style=\"text-align: right;\">\n",
       "      <th></th>\n",
       "      <th>exp_group</th>\n",
       "      <th>user_id</th>\n",
       "      <th>likes</th>\n",
       "      <th>views</th>\n",
       "      <th>ctr</th>\n",
       "    </tr>\n",
       "  </thead>\n",
       "  <tbody>\n",
       "    <tr>\n",
       "      <th>0</th>\n",
       "      <td>1</td>\n",
       "      <td>109963</td>\n",
       "      <td>3</td>\n",
       "      <td>15</td>\n",
       "      <td>0.200000</td>\n",
       "    </tr>\n",
       "    <tr>\n",
       "      <th>1</th>\n",
       "      <td>1</td>\n",
       "      <td>26117</td>\n",
       "      <td>32</td>\n",
       "      <td>141</td>\n",
       "      <td>0.226950</td>\n",
       "    </tr>\n",
       "    <tr>\n",
       "      <th>2</th>\n",
       "      <td>1</td>\n",
       "      <td>138232</td>\n",
       "      <td>18</td>\n",
       "      <td>73</td>\n",
       "      <td>0.246575</td>\n",
       "    </tr>\n",
       "    <tr>\n",
       "      <th>3</th>\n",
       "      <td>1</td>\n",
       "      <td>26295</td>\n",
       "      <td>33</td>\n",
       "      <td>122</td>\n",
       "      <td>0.270492</td>\n",
       "    </tr>\n",
       "    <tr>\n",
       "      <th>4</th>\n",
       "      <td>1</td>\n",
       "      <td>18392</td>\n",
       "      <td>7</td>\n",
       "      <td>32</td>\n",
       "      <td>0.218750</td>\n",
       "    </tr>\n",
       "  </tbody>\n",
       "</table>\n",
       "</div>"
      ],
      "text/plain": [
       "   exp_group  user_id  likes  views       ctr\n",
       "0          1   109963      3     15  0.200000\n",
       "1          1    26117     32    141  0.226950\n",
       "2          1   138232     18     73  0.246575\n",
       "3          1    26295     33    122  0.270492\n",
       "4          1    18392      7     32  0.218750"
      ]
     },
     "execution_count": 4,
     "metadata": {},
     "output_type": "execute_result"
    }
   ],
   "source": [
    "# 1 - контрольная группа\n",
    "# 2 - тестовая группа\n",
    "\n",
    "query = '''\n",
    "SELECT exp_group, user_id,\n",
    "    sum(action = 'like') as likes, \n",
    "    sum(action = 'view') as views,\n",
    "    likes/views as ctr\n",
    "FROM {db}.feed_actions\n",
    "WHERE toDate(time) >= '2023-01-01' \n",
    "    AND toDate(time) <= '2023-01-07'\n",
    "    AND exp_group in (1, 2)\n",
    "GROUP BY exp_group, user_id\n",
    "'''\n",
    "\n",
    "df = ph.read_clickhouse(query, connection=connection)\n",
    "df.head()"
   ]
  },
  {
   "cell_type": "code",
   "execution_count": 9,
   "id": "5af2b5c4-7fad-45ae-b3ef-fa59dcdfc897",
   "metadata": {},
   "outputs": [
    {
     "data": {
      "text/plain": [
       "exp_group\n",
       "1    10079\n",
       "2     9952\n",
       "Name: user_id, dtype: int64"
      ]
     },
     "execution_count": 9,
     "metadata": {},
     "output_type": "execute_result"
    }
   ],
   "source": [
    "# проверили разбиение\n",
    "df.groupby('exp_group').count().user_id"
   ]
  },
  {
   "cell_type": "code",
   "execution_count": 5,
   "id": "0c52851a-f554-418b-87c4-c1961028b885",
   "metadata": {},
   "outputs": [
    {
     "data": {
      "image/png": "[encoded data removed]",
      "text/plain": [
       "<Figure size 842.4x595.44 with 1 Axes>"
      ]
     },
     "metadata": {},
     "output_type": "display_data"
    }
   ],
   "source": [
    "groups = sns.histplot(data = df, \n",
    "              x='ctr', \n",
    "              hue='exp_group', \n",
    "              palette = ['r', 'b'],\n",
    "              alpha=0.5,\n",
    "              kde=False)"
   ]
  },
  {
   "cell_type": "markdown",
   "id": "2dbbafd3-5e27-4878-9e75-a4f4db4bb7aa",
   "metadata": {},
   "source": [
    "Визуально распределения групп отличаются друг от друга"
   ]
  },
  {
   "cell_type": "markdown",
   "id": "4a69c3f3-9808-4318-a43c-9ef97a1daa17",
   "metadata": {},
   "source": [
    "## Тест Манна-Уитни на распределении пользователей"
   ]
  },
  {
   "cell_type": "code",
   "execution_count": 6,
   "id": "2ac61eda-06df-4aed-a14a-26bb970354b3",
   "metadata": {},
   "outputs": [],
   "source": [
    "sample_1 = df[df.exp_group == 1].ctr.to_numpy()\n",
    "sample_2 = df[df.exp_group == 2].ctr.to_numpy()"
   ]
  },
  {
   "cell_type": "code",
   "execution_count": 8,
   "id": "21866a42-29ee-4300-95bb-5359dc42e61f",
   "metadata": {},
   "outputs": [
    {
     "data": {
      "text/plain": [
       "MannwhitneyuResult(statistic=56601260.5, pvalue=6.0376484617779035e-56)"
      ]
     },
     "execution_count": 8,
     "metadata": {},
     "output_type": "execute_result"
    }
   ],
   "source": [
    "stats.mannwhitneyu(sample_1, \n",
    "                   sample_2,\n",
    "                   alternative = 'two-sided')"
   ]
  },
  {
   "cell_type": "markdown",
   "id": "77ecee50-65b6-435b-a0a7-750292d93fcc",
   "metadata": {},
   "source": [
    "p_value больше 0.05, значит различие в распределениях групп согласно тесту Манна-Уитни не было выявлено"
   ]
  },
  {
   "cell_type": "markdown",
   "id": "75890c15-a03f-4d4e-95e8-79ced62383e3",
   "metadata": {},
   "source": [
    "## Пуассоновский бутстреп"
   ]
  },
  {
   "cell_type": "code",
   "execution_count": 29,
   "id": "0a0f48f9-7ee8-4e94-b931-604fb969b8e3",
   "metadata": {},
   "outputs": [],
   "source": [
    "def poisson_bootstrap(likes1, views1, likes2, views2, n_bootstrap=2000):\n",
    "    poisson_bootstraps1 = stats.poisson(1).rvs(\n",
    "        (n_bootstrap, len(likes1))).astype(np.int64)\n",
    "    poisson_bootstraps2 = stats.poisson(1).rvs(\n",
    "            (n_bootstrap, len(likes2))).astype(np.int64)\n",
    "    globalCTR1 = (poisson_bootstraps1*likes1).sum(axis=1)/(poisson_bootstraps1*views1).sum(axis=1)\n",
    "    globalCTR2 = (poisson_bootstraps2*likes2).sum(axis=1)/(poisson_bootstraps2*views2).sum(axis=1)\n",
    "\n",
    "    return globalCTR1, globalCTR2"
   ]
  },
  {
   "cell_type": "code",
   "execution_count": 30,
   "id": "4b030511-f402-44fa-80c0-41d5f8044b7d",
   "metadata": {
    "tags": []
   },
   "outputs": [],
   "source": [
    "likes1 = df[df.exp_group == 1].likes.to_numpy()\n",
    "views1 = df[df.exp_group == 1].views.to_numpy()\n",
    "likes2 = df[df.exp_group == 2].likes.to_numpy()\n",
    "views2 = df[df.exp_group == 2].views.to_numpy()\n",
    "\n",
    "ctr1, ctr2 = poisson_bootstrap(likes1, views1, likes2, views2)"
   ]
  },
  {
   "cell_type": "code",
   "execution_count": 22,
   "id": "90c597ed-dbcb-4797-b4ec-ec137d912d43",
   "metadata": {},
   "outputs": [
    {
     "data": {
      "image/png": "[encoded data removed]",
      "text/plain": [
       "<Figure size 842.4x595.44 with 1 Axes>"
      ]
     },
     "metadata": {},
     "output_type": "display_data"
    }
   ],
   "source": [
    "sns.histplot(ctr1, alpha=0.5)\n",
    "sns.histplot(ctr2, color='red', alpha=0.5)\n",
    "plt.show()"
   ]
  },
  {
   "cell_type": "code",
   "execution_count": 31,
   "id": "165b073a-a6f0-49d0-ab5e-041968266f65",
   "metadata": {},
   "outputs": [
    {
     "data": {
      "text/plain": [
       "MannwhitneyuResult(statistic=4000000.0, pvalue=0.0)"
      ]
     },
     "execution_count": 31,
     "metadata": {},
     "output_type": "execute_result"
    }
   ],
   "source": [
    "stats.mannwhitneyu(ctr1, \n",
    "                   ctr2, \n",
    "                   alternative = 'two-sided')"
   ]
  },
  {
   "cell_type": "markdown",
   "id": "9967cad2-b3af-46d0-9a8b-f926c80cd485",
   "metadata": {},
   "source": [
    "При использовании бутстрепа различие в распределениях ctr подвыборок явно видно, что подтверждает тест Манна-Уитни"
   ]
  },
  {
   "cell_type": "code",
   "execution_count": 19,
   "id": "22d65386-7d64-46e6-bae5-492fd7de1ab6",
   "metadata": {},
   "outputs": [
    {
     "data": {
      "image/png": "[encoded data removed]",
      "text/plain": [
       "<Figure size 842.4x595.44 with 1 Axes>"
      ]
     },
     "metadata": {},
     "output_type": "display_data"
    }
   ],
   "source": [
    "sns.histplot(ctr2 - ctr1)\n",
    "plt.show()"
   ]
  },
  {
   "cell_type": "markdown",
   "id": "9714ef70-fd8d-4e13-9221-2f889db18f8b",
   "metadata": {},
   "source": [
    "## Бакетное преобразование"
   ]
  },
  {
   "cell_type": "code",
   "execution_count": 33,
   "id": "5cc57b19-25f3-4e60-b766-79c41770cab4",
   "metadata": {},
   "outputs": [],
   "source": [
    "import hashlib\n",
    "\n",
    "def ab_split(user_id, n_groups, salt='exp_mess_1'):\n",
    "    test_id = str(user_id) + '-' + str(salt)\n",
    "    test_id_digest = hashlib.md5(test_id.encode('ascii')).hexdigest()\n",
    "    test_id_final_int = int(test_id_digest, 16)\n",
    "    return test_id_final_int % n_groups"
   ]
  },
  {
   "cell_type": "code",
   "execution_count": 47,
   "id": "74284ce9-ad39-4cd2-bcd2-a7c57387943b",
   "metadata": {},
   "outputs": [],
   "source": [
    "group1 = df[df.exp_group == 1]\n",
    "group2 = df[df.exp_group == 2]"
   ]
  },
  {
   "cell_type": "code",
   "execution_count": 50,
   "id": "2f9a78bf-54b5-484e-a9dd-0e1146bfec9f",
   "metadata": {},
   "outputs": [],
   "source": [
    "group1_hash, group2_hash = group1.copy(), group2.copy()\n",
    "group1_hash['hash_group'] = group1.user_id.apply(ab_split, args=(100,))\n",
    "group2_hash['hash_group'] = group2.user_id.apply(ab_split, args=(100,))"
   ]
  },
  {
   "cell_type": "code",
   "execution_count": 51,
   "id": "64f17367-8f66-4ac2-84a6-0a6fb9e59bc4",
   "metadata": {},
   "outputs": [
    {
     "data": {
      "text/html": [
       "<div>\n",
       "<style scoped>\n",
       "    .dataframe tbody tr th:only-of-type {\n",
       "        vertical-align: middle;\n",
       "    }\n",
       "\n",
       "    .dataframe tbody tr th {\n",
       "        vertical-align: top;\n",
       "    }\n",
       "\n",
       "    .dataframe thead th {\n",
       "        text-align: right;\n",
       "    }\n",
       "</style>\n",
       "<table border=\"1\" class=\"dataframe\">\n",
       "  <thead>\n",
       "    <tr style=\"text-align: right;\">\n",
       "      <th></th>\n",
       "      <th>exp_group</th>\n",
       "      <th>user_id</th>\n",
       "      <th>likes</th>\n",
       "      <th>views</th>\n",
       "      <th>ctr</th>\n",
       "      <th>hash_group</th>\n",
       "    </tr>\n",
       "  </thead>\n",
       "  <tbody>\n",
       "    <tr>\n",
       "      <th>0</th>\n",
       "      <td>1</td>\n",
       "      <td>109963</td>\n",
       "      <td>3</td>\n",
       "      <td>15</td>\n",
       "      <td>0.200000</td>\n",
       "      <td>60</td>\n",
       "    </tr>\n",
       "    <tr>\n",
       "      <th>1</th>\n",
       "      <td>1</td>\n",
       "      <td>26117</td>\n",
       "      <td>32</td>\n",
       "      <td>141</td>\n",
       "      <td>0.226950</td>\n",
       "      <td>19</td>\n",
       "    </tr>\n",
       "    <tr>\n",
       "      <th>2</th>\n",
       "      <td>1</td>\n",
       "      <td>138232</td>\n",
       "      <td>18</td>\n",
       "      <td>73</td>\n",
       "      <td>0.246575</td>\n",
       "      <td>31</td>\n",
       "    </tr>\n",
       "    <tr>\n",
       "      <th>3</th>\n",
       "      <td>1</td>\n",
       "      <td>26295</td>\n",
       "      <td>33</td>\n",
       "      <td>122</td>\n",
       "      <td>0.270492</td>\n",
       "      <td>14</td>\n",
       "    </tr>\n",
       "    <tr>\n",
       "      <th>4</th>\n",
       "      <td>1</td>\n",
       "      <td>18392</td>\n",
       "      <td>7</td>\n",
       "      <td>32</td>\n",
       "      <td>0.218750</td>\n",
       "      <td>1</td>\n",
       "    </tr>\n",
       "  </tbody>\n",
       "</table>\n",
       "</div>"
      ],
      "text/plain": [
       "   exp_group  user_id  likes  views       ctr  hash_group\n",
       "0          1   109963      3     15  0.200000          60\n",
       "1          1    26117     32    141  0.226950          19\n",
       "2          1   138232     18     73  0.246575          31\n",
       "3          1    26295     33    122  0.270492          14\n",
       "4          1    18392      7     32  0.218750           1"
      ]
     },
     "execution_count": 51,
     "metadata": {},
     "output_type": "execute_result"
    }
   ],
   "source": [
    "group1_hash.head()"
   ]
  },
  {
   "cell_type": "code",
   "execution_count": 52,
   "id": "25467da1-90e0-46f9-8a31-b6593e3500c7",
   "metadata": {},
   "outputs": [
    {
     "data": {
      "text/plain": [
       "100"
      ]
     },
     "execution_count": 52,
     "metadata": {},
     "output_type": "execute_result"
    }
   ],
   "source": [
    "#Кол-во групп\n",
    "group1_hash.hash_group.nunique()"
   ]
  },
  {
   "cell_type": "code",
   "execution_count": 53,
   "id": "7d387984-453c-4c55-b463-0250457db8a4",
   "metadata": {},
   "outputs": [
    {
     "data": {
      "text/plain": [
       "2     121\n",
       "83    120\n",
       "97    118\n",
       "70    118\n",
       "74    118\n",
       "Name: hash_group, dtype: int64"
      ]
     },
     "execution_count": 53,
     "metadata": {},
     "output_type": "execute_result"
    }
   ],
   "source": [
    "# посмотрим на кол-во пользователей в группе\n",
    "group1_hash.hash_group.value_counts().head()"
   ]
  },
  {
   "cell_type": "code",
   "execution_count": 36,
   "id": "290f477e-3eb5-4a04-aca9-aa53bbdf4a65",
   "metadata": {},
   "outputs": [],
   "source": [
    "group1_meta = group1_hash.groupby('hash_group')[['likes', 'views']].sum()\n",
    "group1_meta['ctr'] = group1_meta['likes'] / group1_meta['views']\n",
    "group2_meta = group2_hash.groupby('hash_group')[['likes', 'views']].sum()\n",
    "group2_meta['ctr'] = group2_meta['likes'] / group2_meta['views']"
   ]
  },
  {
   "cell_type": "code",
   "execution_count": 63,
   "id": "bbfe981c-d29d-465e-8e72-1b9d894a7a1c",
   "metadata": {},
   "outputs": [
    {
     "data": {
      "image/png": "[encoded data removed]",
      "text/plain": [
       "<Figure size 842.4x595.44 with 1 Axes>"
      ]
     },
     "metadata": {},
     "output_type": "display_data"
    }
   ],
   "source": [
    "sns.histplot(group1_meta.ctr, alpha=0.5, label='group_1')\n",
    "sns.histplot(group2_meta.ctr, color='red', alpha=0.5,label='group_2')\n",
    "plt.legend()\n",
    "plt.show()"
   ]
  },
  {
   "cell_type": "code",
   "execution_count": 41,
   "id": "eb3ec888-ce21-43ed-8b83-e1fdce1e8e1e",
   "metadata": {},
   "outputs": [
    {
     "data": {
      "text/plain": [
       "MannwhitneyuResult(statistic=7128.0, pvalue=2.0110869513991762e-07)"
      ]
     },
     "execution_count": 41,
     "metadata": {},
     "output_type": "execute_result"
    }
   ],
   "source": [
    "stats.mannwhitneyu(group1_meta.ctr, \n",
    "                   group2_meta.ctr, \n",
    "                   alternative = 'two-sided')"
   ]
  },
  {
   "cell_type": "markdown",
   "id": "71fc5595-1d19-49a8-90dc-8c6fbad6bf04",
   "metadata": {},
   "source": [
    "При использовании бакетного преобразования различие в выборках не было выявлено"
   ]
  },
  {
   "cell_type": "markdown",
   "id": "488010f7-46c9-4de6-ac60-f01655cb1690",
   "metadata": {},
   "source": [
    "## Сглаженный CTR"
   ]
  },
  {
   "cell_type": "code",
   "execution_count": 75,
   "id": "c9d9c87f-99d7-4c0c-9686-de22f3f90150",
   "metadata": {},
   "outputs": [],
   "source": [
    "def get_smothed_ctr(user_likes, user_views, global_ctr, alpha):\n",
    "    smothed_ctr = (user_likes + alpha * global_ctr) / (user_views + alpha)\n",
    "    return smothed_ctr\n",
    "\n",
    "global_ctr1 = group1.likes.sum()/group1.views.sum()\n",
    "global_ctr2 = group2.likes.sum()/group2.views.sum()\n",
    "group1_sm, group2_sm = group1.copy(), group2.copy()\n",
    "group1_sm['smothed_ctr'] = df.apply(\n",
    "    lambda x: get_smothed_ctr(x['likes'], x['views'], global_ctr1, 5), axis=1)\n",
    "group2_sm['smothed_ctr'] = df.apply(\n",
    "    lambda x: get_smothed_ctr(x['likes'], x['views'], global_ctr2, 5), axis=1)"
   ]
  },
  {
   "cell_type": "code",
   "execution_count": 76,
   "id": "6b4b8031-6384-455d-b4bc-3646b8653026",
   "metadata": {},
   "outputs": [
    {
     "data": {
      "image/png": "[encoded data removed]",
      "text/plain": [
       "<Figure size 842.4x595.44 with 1 Axes>"
      ]
     },
     "metadata": {},
     "output_type": "display_data"
    }
   ],
   "source": [
    "sns.histplot(group1_sm.smothed_ctr, alpha=0.5, label='group_1')\n",
    "sns.histplot(group2_sm.smothed_ctr, color='red', alpha=0.5, label='group_2')\n",
    "plt.legend()\n",
    "plt.show()"
   ]
  },
  {
   "cell_type": "code",
   "execution_count": 77,
   "id": "cdcb83d7-9f80-4a85-8eb1-b1ffdaae8932",
   "metadata": {},
   "outputs": [
    {
     "data": {
      "text/plain": [
       "MannwhitneyuResult(statistic=56925125.0, pvalue=1.6163964114270227e-61)"
      ]
     },
     "execution_count": 77,
     "metadata": {},
     "output_type": "execute_result"
    }
   ],
   "source": [
    "stats.mannwhitneyu(group1_sm.smothed_ctr, \n",
    "                   group2_sm.smothed_ctr,\n",
    "                   alternative = 'two-sided')"
   ]
  },
  {
   "cell_type": "markdown",
   "id": "44ac6778-b810-422e-9890-578ee9cf866c",
   "metadata": {},
   "source": [
    "## Вывод"
   ]
  },
  {
   "cell_type": "markdown",
   "id": "044f8710-1c56-40f6-b101-f97be0e2f168",
   "metadata": {},
   "source": [
    "Разница в распределениях контрольной и тестовой выборки заметно при визуальном анализе и использовании бутстрепа, однако при проведении теста Манна-Уитни на распределении метрики по пользователям и при испльзовании бакетного преобразования различие в распределениях групп не было выявлено. \n",
    "Такие результаыт можно объяснить особенностью получившихся распределений (распределение первой группы находится между двумя горбами распределения второй группы), а также теста (его нулевой гипотезой: вероятность, что значения одного распределения больше значения второго второго распределения), который применялся для их сравнения.  \n",
    "Мне кажется, что не стоит раскатывать данный алгоритм на всех новых пользователей, потому что по распределению группы, к которой применялся данный алгоритм видно, что для ее одной части целевая стала метрика хуже, чем в контрольной группе, хоть для другой части пользователей метрика и увеличилась, одноко при применении бутстрепа видно, распределение метрики по подвыборкам в treatment группе стоит левее, чем в контрольной."
   ]
  },
  {
   "cell_type": "code",
   "execution_count": null,
   "id": "aa7be882-68e8-4df5-ab80-2bf405070860",
   "metadata": {},
   "outputs": [],
   "source": []
  }
 ],
 "metadata": {
  "kernelspec": {
   "display_name": "Python 3 (ipykernel)",
   "language": "python",
   "name": "python3"
  },
  "language_info": {
   "codemirror_mode": {
    "name": "ipython",
    "version": 3
   },
   "file_extension": ".py",
   "mimetype": "text/x-python",
   "name": "python",
   "nbconvert_exporter": "python",
   "pygments_lexer": "ipython3",
   "version": "3.8.10"
  }
 },
 "nbformat": 4,
 "nbformat_minor": 5
}
